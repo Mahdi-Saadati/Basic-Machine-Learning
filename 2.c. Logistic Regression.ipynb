{
  "nbformat": 4,
  "nbformat_minor": 0,
  "metadata": {
    "colab": {
      "provenance": [],
      "authorship_tag": "ABX9TyP/jerd+4y+mjXjTcLva9AY",
      "include_colab_link": true
    },
    "kernelspec": {
      "name": "python3",
      "display_name": "Python 3"
    },
    "language_info": {
      "name": "python"
    }
  },
  "cells": [
    {
      "cell_type": "markdown",
      "metadata": {
        "id": "view-in-github",
        "colab_type": "text"
      },
      "source": [
        "<a href=\"https://colab.research.google.com/github/Mahdi-Saadati/Machine-Learning-1/blob/main/2.c.%20Logistic%20Regression.ipynb\" target=\"_parent\"><img src=\"https://colab.research.google.com/assets/colab-badge.svg\" alt=\"Open In Colab\"/></a>"
      ]
    },
    {
      "cell_type": "markdown",
      "source": [
        "<div dir=\"rtl\" align=\"right\">\n",
        "\n",
        "یک مثال ساده و آموزشی می‌تواند پیش‌بینی بیماری قلبی باشد.\n",
        "\n",
        "در این مثال فرض می‌کنیم یک دیتاست کوچک داریم که شامل اطلاعات بیماران است (مثل سن، فشار خون و …) و می‌خواهیم با رگرسیون لجستیک پیش‌بینی کنیم آیا فرد بیماری قلبی دارد یا نه.\n",
        "\n",
        "🔹 ایده‌ی ساده\n",
        "\n",
        "ویژگی‌ها (Features): سن (age)، میزان کلسترول (chol)\n",
        "\n",
        "برچسب (Target): 1 = بیماری قلبی دارد، 0 = سالم است\n",
        "\n",
        "🔹 کد پایتون ساده با دادهٔ فرضی"
      ],
      "metadata": {
        "id": "hZrWzh0BrukD"
      }
    },
    {
      "cell_type": "code",
      "source": [
        "from sklearn.linear_model import LogisticRegression\n",
        "import pandas as pd\n",
        "\n",
        "# داده‌ی نمونه (یک دیتاست کوچک فرضی)\n",
        "data = {\n",
        "    'age': [25, 34, 45, 52, 23, 40, 60, 48],\n",
        "    'chol': [180, 220, 250, 270, 190, 230, 300, 260],\n",
        "    'heart_disease': [0, 0, 1, 1, 0, 1, 1, 1]  # 1 = بیمار، 0 = سالم\n",
        "}\n",
        "\n",
        "df = pd.DataFrame(data)\n",
        "\n",
        "# جدا کردن ویژگی‌ها و برچسب\n",
        "X = df[['age', 'chol']]          # ویژگی‌ها\n",
        "y = df['heart_disease']          # برچسب\n",
        "\n",
        "# ساخت و آموزش مدل\n",
        "model = LogisticRegression()\n",
        "model.fit(X, y)\n",
        "\n",
        "# پیش‌بینی برای یک بیمار جدید\n",
        "new_patient = [[50, 240]]  # سن=50، کلسترول=240\n",
        "prediction = model.predict(new_patient)\n",
        "\n",
        "if prediction[0] == 1:\n",
        "    print(\"This person may have heart disease.\") #احتمال دارد این فرد بیماری قلبی داشته باشد\n",
        "else:\n",
        "    print(\"This person is probably healthy.\") #احتمالاً این فرد سالم است\n"
      ],
      "metadata": {
        "colab": {
          "base_uri": "https://localhost:8080/"
        },
        "id": "NLWU9QYesTXc",
        "outputId": "7a51b2f8-49fc-4914-a1b5-56a69a07c650"
      },
      "execution_count": 17,
      "outputs": [
        {
          "output_type": "stream",
          "name": "stdout",
          "text": [
            "This person may have heart disease.\n"
          ]
        },
        {
          "output_type": "stream",
          "name": "stderr",
          "text": [
            "/usr/local/lib/python3.11/dist-packages/sklearn/utils/validation.py:2739: UserWarning: X does not have valid feature names, but LogisticRegression was fitted with feature names\n",
            "  warnings.warn(\n"
          ]
        }
      ]
    }
  ]
}