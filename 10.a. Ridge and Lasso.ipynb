{
  "nbformat": 4,
  "nbformat_minor": 0,
  "metadata": {
    "colab": {
      "provenance": [],
      "authorship_tag": "ABX9TyNU+r1Y9wCpP418PlaE0YdR",
      "include_colab_link": true
    },
    "kernelspec": {
      "name": "python3",
      "display_name": "Python 3"
    },
    "language_info": {
      "name": "python"
    }
  },
  "cells": [
    {
      "cell_type": "markdown",
      "metadata": {
        "id": "view-in-github",
        "colab_type": "text"
      },
      "source": [
        "<a href=\"https://colab.research.google.com/github/Mahdi-Saadati/Machine-Learning-1/blob/main/10.a.%20Ridge%20and%20Lasso.ipynb\" target=\"_parent\"><img src=\"https://colab.research.google.com/assets/colab-badge.svg\" alt=\"Open In Colab\"/></a>"
      ]
    },
    {
      "cell_type": "markdown",
      "source": [
        "<div dir=\"rtl\" align=\"right\">\n",
        "✨ رگرسیون Ridge و Lasso چی هستن؟\n",
        "\n",
        "📌 اول یادآوری: رگرسیون خطی\n",
        "\n",
        "رگرسیون خطی یعنی یک خط بکش که بهترین پیش‌بینی رو برای داده‌ها بده.\n",
        "اما اگه ویژگی‌های زیادی داشته باشیم، ممکنه خط یادگرفته شده خیلی پیچیده بشه و روی داده‌های جدید خوب کار نکنه.\n",
        "برای همین روش‌هایی داریم که کمی جلوی این پیچیدگی رو بگیرن.\n",
        "\n",
        "✅ هر دو روش سعی می‌کنن مدل ساده‌تری بسازن و از پیچیده شدن بیش از حد جلوگیری کنن (به این می‌گن Regularization).\n",
        "\n",
        "✅ فرقشون توی روش ساده کردن هست:\n",
        "\n",
        "🔹 Ridge Regression (ریج):\n",
        "\n",
        "\n",
        "یک نوع رگرسیون خطی هست.\n",
        "\n",
        "فرقش با رگرسیون خطی ساده اینه که جریمه (penalty) روی ضرایب بزرگ می‌ذاره.\n",
        "\n",
        "این کار کمک می‌کنه مدل از بیش‌برازش (Overfitting) جلوگیری کنه.\n",
        "\n",
        "جلوی بزرگ شدن ضرایب (وزن‌ها) رو می‌گیره.\n",
        "\n",
        "ضرایب رو کوچک‌تر می‌کنه ولی هیچ‌کدوم رو دقیقاً صفر نمی‌کنه.\n",
        "\n",
        "یعنی همه‌ی ویژگی‌ها باقی می‌مونن، ولی اثرشون کمتر میشه.\n",
        "\n",
        "مثال ساده:\n",
        "مثل اینه که به همه‌ی درس‌ها اهمیت بدی، ولی اگه دیدی یک درس خیلی بی‌ربطه، میگی: «باشه! کمتر روش تأثیر می‌ذارم.»\n",
        "\n",
        "🔹 Lasso Regression (لَسو):\n",
        "\n",
        "یکی از انواع رگرسیون خطی هست.\n",
        "\n",
        "مثل Ridge، روی ضرایب جریمه می‌ذاره ولی فرقش اینه که:\n",
        "\n",
        "Lasso (L1 penalty) بعضی از ضرایب رو کاملاً صفر می‌کنه.\n",
        "\n",
        "این یعنی هم جلوگیری از بیش‌برازش می‌کنه و هم انتخاب ویژگی (Feature Selection) انجام می‌ده.\n",
        "\n",
        "علاوه بر کوچک کردن ضرایب، بعضی از ضرایب رو دقیقاً صفر می‌کنه.\n",
        "\n",
        "یعنی بعضی ویژگی‌ها رو کلاً حذف می‌کنه.\n",
        "\n",
        "مثال ساده:\n",
        "مثل اینه که بگی: «خب، این درس‌های اضافی رو کلاً بی‌خیال میشم! فقط چندتا درس مهم رو نگه می‌دارم.»\n",
        "\n",
        "\n",
        "![Capture.JPG](data:image/jpeg;base64,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)\n",
        "\n",
        "\n",
        "✅ یک مثال پایتونی جذاب\n",
        "\n",
        "بیایید با یک داده‌ی ساختگی ساده امتحان کنیم:\n",
        "(ویژگی‌ها رو زیاد می‌گیریم تا ببینیم Lasso چطور بعضی‌ها رو صفر می‌کنه.)"
      ],
      "metadata": {
        "id": "hZrWzh0BrukD"
      }
    },
    {
      "cell_type": "code",
      "source": [
        "import numpy as np\n",
        "from sklearn.linear_model import Ridge, Lasso\n",
        "\n",
        "# داده‌ی ساده: 5 ویژگی (ولی فقط 2 تای آنها مهم هستند)\n",
        "np.random.seed(0)\n",
        "X = np.random.randn(100, 5)\n",
        "# فقط ویژگی 0 و 1 مهم هستند\n",
        "y = 3*X[:,0] - 2*X[:,1] + np.random.randn(100)*0.1\n",
        "\n",
        "# مدل Ridge\n",
        "ridge = Ridge(alpha=1.0)\n",
        "ridge.fit(X, y)\n",
        "\n",
        "# مدل Lasso\n",
        "lasso = Lasso(alpha=0.1)\n",
        "lasso.fit(X, y)\n",
        "\n",
        "print(\"Ridge model coefficients:\", ridge.coef_) #ضرایب مدل Ridge\n",
        "print(\"Lasso model coefficients:\", lasso.coef_) #ضرایب مدل Lasso\n"
      ],
      "metadata": {
        "colab": {
          "base_uri": "https://localhost:8080/"
        },
        "id": "NLWU9QYesTXc",
        "outputId": "ca6ba592-eb98-41d4-a810-961ee3744caf",
        "collapsed": true
      },
      "execution_count": 1,
      "outputs": [
        {
          "output_type": "stream",
          "name": "stdout",
          "text": [
            "Ridge model coefficients: [ 2.97405965e+00 -1.97237123e+00  2.05793753e-02 -5.94163262e-04\n",
            " -1.12100076e-02]\n",
            "Lasso model coefficients: [ 2.90794837 -1.89218887  0.         -0.         -0.        ]\n"
          ]
        }
      ]
    },
    {
      "cell_type": "markdown",
      "source": [
        "<div dir=\"rtl\" align=\"right\">\n",
        "در Ridge:\n",
        "\n",
        "📌 پارامترها:\n",
        "\n",
        "alpha=1.0 → مقدار شدت جریمه.\n",
        "\n",
        "اگر بزرگ باشه → ضرایب کوچک‌تر می‌شن (مدل ساده‌تر).\n",
        "\n",
        "اگر خیلی کوچک باشه (نزدیک صفر) → تقریباً مثل رگرسیون خطی معمولی می‌شه.\n",
        "\n",
        "در Lasso:\n",
        "\n",
        "📌 پارامترها:\n",
        "\n",
        "alpha=0.1 → شدت جریمه.\n",
        "\n",
        "اگر بزرگ باشه → تعداد بیشتری از ضرایب صفر می‌شن.\n",
        "\n",
        "اگر کوچک باشه → ضرایب کمتر تحت فشار قرار می‌گیرن.\n",
        "\n",
        "\n",
        "👆 خروجی:\n",
        "\n",
        "توی Ridge ضرایب کوچک میشن ولی هیچکدوم صفر نیست.\n",
        "\n",
        "توی Lasso می‌بینی بعضی ضرایب دقیقاً صفر میشن و فقط دوتا ویژگی اصلی می‌مونن.\n",
        "\n",
        "Ridge: همه ویژگی‌ها رو نگه می‌داره ولی ضعیف‌ترشون می‌کنه.\n",
        "\n",
        "Lasso: فقط ویژگی‌های مهم رو نگه می‌داره و بقیه رو حذف می‌کنه.\n",
        "اینطوری مدل ساده‌تر و قوی‌تر میشه."
      ],
      "metadata": {
        "id": "eeXutdMKbai2"
      }
    }
  ]
}