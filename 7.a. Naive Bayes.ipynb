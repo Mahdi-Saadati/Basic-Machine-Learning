{
  "nbformat": 4,
  "nbformat_minor": 0,
  "metadata": {
    "colab": {
      "provenance": [],
      "authorship_tag": "ABX9TyMpvZL+F64kuuJYsbyzAMd/",
      "include_colab_link": true
    },
    "kernelspec": {
      "name": "python3",
      "display_name": "Python 3"
    },
    "language_info": {
      "name": "python"
    }
  },
  "cells": [
    {
      "cell_type": "markdown",
      "metadata": {
        "id": "view-in-github",
        "colab_type": "text"
      },
      "source": [
        "<a href=\"https://colab.research.google.com/github/Mahdi-Saadati/Machine-Learning-1/blob/main/7.a.%20Naive%20Bayes.ipynb\" target=\"_parent\"><img src=\"https://colab.research.google.com/assets/colab-badge.svg\" alt=\"Open In Colab\"/></a>"
      ]
    },
    {
      "cell_type": "markdown",
      "source": [
        "<div dir=\"rtl\" align=\"right\">\n",
        "\n",
        "📌 نايو بیز (Naive Bayes) یعنی چی؟\n",
        "\n",
        "تصور کن می‌خوای بفهمی یک پیام جدید اسپم هست یا نه.\n",
        "چیکار می‌کنی؟ میای کلماتش رو نگاه می‌کنی:\n",
        "\n",
        "اگه توش کلمه‌ی «برنده شدی» هست → احتمال اسپم زیاد میشه.\n",
        "\n",
        "اگه توش کلمه‌ی «خرید» هست → احتمال اسپم بیشتر میشه.\n",
        "\n",
        "اگه توش کلمه‌ی «دوست عزیز» هست → احتمال اسپم کمتر میشه.\n",
        "\n",
        "حالا میای با قانون احتمال محاسبه می‌کنی:\n",
        "\n",
        "چقدر احتمال داره این پیام اسپم باشه، با توجه به کلماتی که داره؟\n",
        "چقدر احتمال داره این پیام اسپم نباشه، با توجه به همون کلمات؟\n",
        "هر کدوم بیشتر بود → همونو انتخاب می‌کنی.\n",
        "\n",
        "✨ چرا بهش میگن Naive (ساده‌لوحانه)؟\n",
        "\n",
        "چون فرض می‌کنه همه‌ی ویژگی‌ها (مثلاً کلمات) مستقل از هم هستن.\n",
        "در دنیای واقعی همیشه اینطور نیست، ولی این فرض ساده باعث میشه خیلی سریع و خوب کار کنه.\n",
        "\n",
        "✨ خیلی ساده برای کلاس\n",
        "ما داریم احتمال می‌سنجیم.\n",
        "\n",
        "می‌گیم: «با این شواهد، کدوم دسته محتمل‌تره؟»\n",
        "\n",
        "بعد بر اساس بزرگ‌تر بودن احتمال تصمیم می‌گیریم.\n",
        "\n",
        "✅ یک مثال بامزه با پایتون\n",
        "بیایم با پیام‌ها کار کنیم:\n",
        "\n",
        "می‌خواهیم یاد بگیریم پیام‌ها شاد 😊 هستن یا ناراحت 😢."
      ],
      "metadata": {
        "id": "hZrWzh0BrukD"
      }
    },
    {
      "cell_type": "code",
      "source": [
        "from sklearn.feature_extraction.text import CountVectorizer\n",
        "from sklearn.naive_bayes import MultinomialNB\n",
        "\n",
        "# داده‌های آموزشی\n",
        "texts = [\n",
        "    \"I am very happy\",\n",
        "   \"Today is great\",\n",
        "  \"What a beautiful day\",\n",
        "   \"I am sad\",\n",
        "   \"Today was very bad\",\n",
        "   \"I'm really touched\",\n",
        "]\n",
        "labels = [\"Happy\", \"Happy\", \"Happy\", \"Upset\", \"Upset\", \"Upset\"]\n",
        "\n",
        "# تبدیل متن به بردار ویژگی‌ها (تعداد کلمات)\n",
        "vectorizer = CountVectorizer()\n",
        "X = vectorizer.fit_transform(texts)\n",
        "\n",
        "# ساخت مدل Naive Bayes\n",
        "model = MultinomialNB()\n",
        "model.fit(X, labels)\n",
        "\n",
        "# تست با یک پیام جدید\n",
        "new_text = [\"I am very happy today\"]\n",
        "X_new = vectorizer.transform(new_text)\n",
        "prediction = model.predict(X_new)\n",
        "\n",
        "print(\"What does the new message look like?\", prediction[0])\n"
      ],
      "metadata": {
        "colab": {
          "base_uri": "https://localhost:8080/"
        },
        "id": "NLWU9QYesTXc",
        "outputId": "fa4f8f9d-426d-405a-cafc-3db4af72ec9f"
      },
      "execution_count": 5,
      "outputs": [
        {
          "output_type": "stream",
          "name": "stdout",
          "text": [
            "What does the new message look like? Happy\n"
          ]
        }
      ]
    }
  ]
}