{
  "nbformat": 4,
  "nbformat_minor": 0,
  "metadata": {
    "colab": {
      "provenance": [],
      "authorship_tag": "ABX9TyNDP1mARn5kxIBXgVRIAQri",
      "include_colab_link": true
    },
    "kernelspec": {
      "name": "python3",
      "display_name": "Python 3"
    },
    "language_info": {
      "name": "python"
    }
  },
  "cells": [
    {
      "cell_type": "markdown",
      "metadata": {
        "id": "view-in-github",
        "colab_type": "text"
      },
      "source": [
        "<a href=\"https://colab.research.google.com/github/Mahdi-Saadati/Machine-Learning-1/blob/main/3.a.%20Decision%20Tree.ipynb\" target=\"_parent\"><img src=\"https://colab.research.google.com/assets/colab-badge.svg\" alt=\"Open In Colab\"/></a>"
      ]
    },
    {
      "cell_type": "markdown",
      "source": [
        "<div dir=\"rtl\" align=\"right\">\n",
        "\n",
        "🌳 درخت تصمیم (Decision Tree) یعنی چی؟\n",
        "\n",
        "تصور کن می‌خوای بر اساس چندتا سؤال ساده تصمیم بگیری.\n",
        "مثلاً می‌خوای تصمیم بگیری:\n",
        "\n",
        "☔ آیا امروز چتر بردارم یا نه؟\n",
        "\n",
        "می‌تونی اینطوری فکر کنی:\n",
        "\n",
        "![Capture.JPG](data:image/jpeg;base64,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)\n",
        "\n",
        "✅ اول یک سؤال می‌پرسیم.\n",
        "\n",
        "✅ بسته به جوابش به شاخه‌ی بعدی می‌رویم.\n",
        "\n",
        "✅ ادامه می‌دهیم تا به جواب نهایی برسیم.\n",
        "\n",
        "\n",
        "به این شکل از فکر کردن می‌گویند: درخت تصمیم\n",
        "چون شبیه یک درخت با شاخه‌های بله/خیر است که در نهایت به برگ‌ها (جواب‌ها) می‌رسد.\n",
        "\n",
        "✨ خیلی ساده:\n",
        "ورودی: ویژگی‌ها (مثلاً ابری بودن، بارانی بودن)\n",
        "\n",
        "الگوریتم: می‌آید بهترین سؤالات را پیدا می‌کند که داده‌ها را جدا کنند.\n",
        "\n",
        "خروجی: یک درخت از سؤالات که در نهایت به جواب می‌رسند.\n",
        "\n",
        "✅ یک مثال بامزه با پایتون\n",
        "بیایم با داده‌های ساده‌ی میوه‌ها کار کنیم:\n",
        "\n",
        "آیا میوه‌ی ما سیب 🍎 است یا پرتقال 🍊؟\n",
        "\n",
        "ویژگی‌ها: رنگ (قرمز=1، نارنجی=0) و بافت (صاف=1، زبر=0)"
      ],
      "metadata": {
        "id": "hZrWzh0BrukD"
      }
    },
    {
      "cell_type": "code",
      "source": [
        "from sklearn import tree\n",
        "\n",
        "# داده‌ها: [رنگ, بافت]\n",
        "X = [\n",
        "    [1, 1],  # قرمز و صاف → سیب\n",
        "    [1, 1],  # قرمز و صاف → سیب\n",
        "    [0, 0],  # نارنجی و زبر → پرتقال\n",
        "    [0, 0],  # نارنجی و زبر → پرتقال\n",
        "]\n",
        "\n",
        "# برچسب‌ها\n",
        "y = [\"Apple\", \"Apple\", \"Orange\", \"Orange\"]\n",
        "\n",
        "# ساخت مدل و آموزش\n",
        "clf = tree.DecisionTreeClassifier()\n",
        "clf = clf.fit(X, y)\n",
        "\n",
        "# تست با میوه‌ی جدید\n",
        "new_fruit = [[1, 0]]  # قرمز ولی زبر\n",
        "prediction = clf.predict(new_fruit)\n",
        "print(\"What does this fruit look like?\", prediction[0]) #این میوه شبیه چیست؟\n"
      ],
      "metadata": {
        "colab": {
          "base_uri": "https://localhost:8080/"
        },
        "id": "NLWU9QYesTXc",
        "outputId": "edd83d9b-41ae-4e29-f3cb-ed0c99cdece8"
      },
      "execution_count": 5,
      "outputs": [
        {
          "output_type": "stream",
          "name": "stdout",
          "text": [
            "What does this fruit look like? Apple\n"
          ]
        }
      ]
    }
  ]
}