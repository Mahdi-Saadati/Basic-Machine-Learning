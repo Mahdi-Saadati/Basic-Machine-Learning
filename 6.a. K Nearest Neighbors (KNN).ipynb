{
  "nbformat": 4,
  "nbformat_minor": 0,
  "metadata": {
    "colab": {
      "provenance": [],
      "authorship_tag": "ABX9TyOPvCx0pUgJUrrNM4iiaw6U",
      "include_colab_link": true
    },
    "kernelspec": {
      "name": "python3",
      "display_name": "Python 3"
    },
    "language_info": {
      "name": "python"
    }
  },
  "cells": [
    {
      "cell_type": "markdown",
      "metadata": {
        "id": "view-in-github",
        "colab_type": "text"
      },
      "source": [
        "<a href=\"https://colab.research.google.com/github/Mahdi-Saadati/Machine-Learning-1/blob/main/6.a.%20K%20Nearest%20Neighbors%20(KNN).ipynb\" target=\"_parent\"><img src=\"https://colab.research.google.com/assets/colab-badge.svg\" alt=\"Open In Colab\"/></a>"
      ]
    },
    {
      "cell_type": "markdown",
      "source": [
        "<div dir=\"rtl\" align=\"right\">\n",
        "\n",
        "\n",
        "📌 K نزدیک‌ترین همسایه (KNN: K Nearest Neighbors) یعنی چی؟\n",
        "\n",
        "فرض کن می‌خواهی بفهمی یک میوه‌ی جدید 🍏 چه میوه‌ای است.\n",
        "\n",
        "نمی‌خواهی فرمول سختی بنویسی، فقط نگاه می‌کنی اطرافش چه میوه‌هایی هستن!\n",
        "\n",
        "✅ به زبان ساده:\n",
        "\n",
        "KNN می‌گه: \"به جای اینکه یک فرمول یاد بگیرم، میرم سراغ داده‌های قدیمی و می‌بینم این داده‌ی جدید شبیه کدوم‌هاست.\"\n",
        "\n",
        "مثلاً:\n",
        "\n",
        "اگر اطراف این میوه بیشتر سیب 🍎 باشن → پس این هم سیبه!\n",
        "\n",
        "اگر اطرافش بیشتر پرتقال 🍊 باشن → پس این پرتقاله!\n",
        "\n",
        "✅ حرف K یعنی:\n",
        "\n",
        "چند تا همسایه رو در نظر بگیرم؟\n",
        "مثلاً K=3 یعنی: ۳ تا نزدیک‌ترین همسایه رو نگاه کن.\n",
        "\n",
        "✨ خیلی ساده:\n",
        "مدل خاصی یاد نمی‌گیره.\n",
        "\n",
        "فقط داده‌ها رو ذخیره می‌کنه.\n",
        "\n",
        "وقتی یه داده جدید میاد → میره K تا از نزدیک‌ترین‌های قبلی رو پیدا می‌کنه → رأی‌گیری می‌کنه.\n",
        "\n",
        "✅ یک مثال بامزه با پایتون\n",
        "\n",
        "بیایید دوباره با میوه‌ها کار کنیم 🍎🍊:"
      ],
      "metadata": {
        "id": "hZrWzh0BrukD"
      }
    },
    {
      "cell_type": "code",
      "source": [
        "from sklearn.neighbors import KNeighborsClassifier\n",
        "\n",
        "# داده‌ها: [وزن میوه, سطح صاف یا زبر]\n",
        "X = [\n",
        "    [150, 0],  # پرتقال\n",
        "    [130, 0],  # پرتقال\n",
        "    [180, 1],  # سیب\n",
        "    [170, 1],  # سیب\n",
        "    [160, 1],  # سیب\n",
        "]\n",
        "\n",
        "y = ['Orange', 'Orange', 'Apple', 'Apple', 'Apple']\n",
        "\n",
        "# مدل KNN با 3 همسایه\n",
        "model = KNeighborsClassifier(n_neighbors=3)\n",
        "model.fit(X, y)\n",
        "\n",
        "# پیش‌بینی یک میوه جدید\n",
        "new_fruit = [[155, 1]]  # وزن 155 و سطح صاف\n",
        "prediction = model.predict(new_fruit)\n",
        "print(\"What does this fruit look like?\", prediction[0])\n"
      ],
      "metadata": {
        "colab": {
          "base_uri": "https://localhost:8080/"
        },
        "id": "NLWU9QYesTXc",
        "outputId": "4bc9d3cc-b0c5-4ea2-ee8b-715a2504cdee"
      },
      "execution_count": 4,
      "outputs": [
        {
          "output_type": "stream",
          "name": "stdout",
          "text": [
            "What does this fruit look like? Apple\n"
          ]
        }
      ]
    }
  ]
}