{
  "nbformat": 4,
  "nbformat_minor": 0,
  "metadata": {
    "colab": {
      "provenance": [],
      "authorship_tag": "ABX9TyMluh9ATf4lZB36q7x96Ztg",
      "include_colab_link": true
    },
    "kernelspec": {
      "name": "python3",
      "display_name": "Python 3"
    },
    "language_info": {
      "name": "python"
    }
  },
  "cells": [
    {
      "cell_type": "markdown",
      "metadata": {
        "id": "view-in-github",
        "colab_type": "text"
      },
      "source": [
        "<a href=\"https://colab.research.google.com/github/Mahdi-Saadati/Basic-Machine-Learning/blob/main/16.a.%20Reinforcement%20Learning%20(RL).ipynb\" target=\"_parent\"><img src=\"https://colab.research.google.com/assets/colab-badge.svg\" alt=\"Open In Colab\"/></a>"
      ]
    },
    {
      "cell_type": "markdown",
      "source": [
        "<div dir=\"rtl\" align=\"right\">\n",
        "یادگیری تقویتی (Reinforcement Learning)\n",
        "هدف: پیش‌بینی تصمیم دارویی (دارو بده / نده) بر اساس ویژگی‌های بیمار و یادگیری بهترین استراتژی.\n",
        "\n",
        "مراحل کار:\n",
        "\n",
        "بارگذاری دیتاست بیماران دیابتی.\n",
        "\n",
        "ساده‌سازی دیتاست برای حالت‌های گسسته (سه وضعیت بیمار).\n",
        "\n",
        "تعریف محیط RL ساده: هر بیمار = حالت، دارو دادن یا ندادن = اکشن، پاداش = بهبود یا عدم بهبود بیمار.\n",
        "\n",
        "اجرای الگوریتم Q-Learning."
      ],
      "metadata": {
        "id": "hZrWzh0BrukD"
      }
    },
    {
      "cell_type": "code",
      "source": [
        "# 1. وارد کردن کتابخانه‌های مورد نیاز\n",
        "import numpy as np\n",
        "import random\n",
        "from sklearn.datasets import load_diabetes\n",
        "from sklearn.preprocessing import KBinsDiscretizer\n",
        "\n",
        "# 2. بارگذاری دیتاست دیابت از sklearn\n",
        "data = load_diabetes()\n",
        "X = data.data      # ویژگی‌های بیماران (مثل سن، فشار خون، BMI و ...)\n",
        "y = data.target    # هدف: شدت بیماری دیابت (عدد پیوسته)\n",
        "\n",
        "# 3. تبدیل هدف عددی به سه دسته گسسته: بدحال(0)، متوسط(1)، خوب(2)\n",
        "y = y.reshape(-1, 1)  # تبدیل به ماتریس ستونی برای KBinsDiscretizer\n",
        "kbd = KBinsDiscretizer(n_bins=3, encode='ordinal', strategy='uniform')\n",
        "states = kbd.fit_transform(y).astype(int).flatten()  # برچسب گسسته برای هر بیمار\n",
        "\n",
        "# 4. تعداد بیماران\n",
        "n_patients = len(states)\n",
        "\n",
        "# 5. تعریف اکشن‌ها: 0 = دارو نده، 1 = دارو بده\n",
        "actions = [0, 1]\n",
        "\n",
        "# 6. ایجاد جدول Q با ابعاد [تعداد بیماران × تعداد اکشن‌ها] و مقدار اولیه صفر\n",
        "Q = np.zeros((n_patients, len(actions)))\n",
        "\n",
        "# 7. پارامترهای الگوریتم Q-Learning\n",
        "alpha = 0.1   # نرخ یادگیری (چقدر Q به روز شود)\n",
        "gamma = 0.9   # ضریب تخفیف (چقدر به آینده اهمیت بدهیم)\n",
        "epsilon = 0.2 # احتمال انتخاب تصادفی (اکتشاف)\n",
        "episodes = 100 # تعداد بار تمرین روی دیتاست\n",
        "\n",
        "# 8. تابع پاداش ساده\n",
        "def reward(state, action):\n",
        "    # اگر دارو بدهیم و بیمار خوب نشده باشد → پاداش 5\n",
        "    if action == 1 and state < 2:\n",
        "        return 5\n",
        "    # اگر دارو ندهیم و بیمار خوب است → پاداش 2\n",
        "    elif action == 0 and state == 2:\n",
        "        return 2\n",
        "    # بقیه حالت‌ها → پاداش منفی (-1)\n",
        "    else:\n",
        "        return -1\n",
        "\n",
        "# 9. حلقه آموزش Q-Learning\n",
        "for episode in range(episodes):\n",
        "    for i, state in enumerate(states):  # بررسی هر بیمار\n",
        "        # انتخاب اکشن با روش ε-greedy\n",
        "        if random.uniform(0,1) < epsilon:\n",
        "            action = random.choice(actions)  # اکتشاف: انتخاب تصادفی\n",
        "        else:\n",
        "            action = np.argmax(Q[i])         # بهره‌برداری: بهترین اکشن فعلی\n",
        "\n",
        "        # دریافت پاداش\n",
        "        r = reward(state, action)\n",
        "\n",
        "        # حالت بعدی (برای سادگی همان حالت فعلی است)\n",
        "        next_state = state\n",
        "\n",
        "        # آپدیت جدول Q\n",
        "        Q[i, action] += alpha * (r + gamma * np.max(Q[i]) - Q[i, action])\n",
        "\n",
        "# 10. نمایش سیاست یادگرفته شده برای 10 بیمار اول\n",
        "for i, state in enumerate(states[:10]):\n",
        "    best_action = np.argmax(Q[i])\n",
        "    print(f\"بیمار {i} وضعیت {state} → بهترین تصمیم: {'دارو بده' if best_action==1 else 'دارو نده'}\")\n"
      ],
      "metadata": {
        "colab": {
          "base_uri": "https://localhost:8080/"
        },
        "id": "NLWU9QYesTXc",
        "outputId": "2775ec93-5a5e-4af1-89db-c2ddcb53a111",
        "collapsed": true
      },
      "execution_count": 2,
      "outputs": [
        {
          "output_type": "stream",
          "name": "stdout",
          "text": [
            "بیمار 0 وضعیت 1 → بهترین تصمیم: دارو بده\n",
            "بیمار 1 وضعیت 0 → بهترین تصمیم: دارو بده\n",
            "بیمار 2 وضعیت 1 → بهترین تصمیم: دارو بده\n",
            "بیمار 3 وضعیت 1 → بهترین تصمیم: دارو بده\n",
            "بیمار 4 وضعیت 1 → بهترین تصمیم: دارو بده\n",
            "بیمار 5 وضعیت 0 → بهترین تصمیم: دارو بده\n",
            "بیمار 6 وضعیت 1 → بهترین تصمیم: دارو بده\n",
            "بیمار 7 وضعیت 0 → بهترین تصمیم: دارو بده\n",
            "بیمار 8 وضعیت 0 → بهترین تصمیم: دارو بده\n",
            "بیمار 9 وضعیت 2 → بهترین تصمیم: دارو نده\n"
          ]
        }
      ]
    },
    {
      "cell_type": "markdown",
      "source": [
        "<div dir=\"rtl\" align=\"right\">\n",
        "\n",
        "توضیح ساده:\n",
        "\n",
        "هر بیمار = یک حالت (بسته به شدت بیماری).\n",
        "\n",
        "اکشن = دارو دادن یا ندادن.\n",
        "\n",
        "پاداش = بهبود یا عدم بهبود بیمار.\n",
        "\n",
        "الگوریتم Q-Learning یاد می‌گیرد که برای هر بیمار بهترین تصمیم چیست."
      ],
      "metadata": {
        "id": "LjOzn09TM2to"
      }
    }
  ]
}