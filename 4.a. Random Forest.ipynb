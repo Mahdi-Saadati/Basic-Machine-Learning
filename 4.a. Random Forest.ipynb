{
  "nbformat": 4,
  "nbformat_minor": 0,
  "metadata": {
    "colab": {
      "provenance": [],
      "authorship_tag": "ABX9TyM3yAp3WVCHUTy/WNq/2fwc",
      "include_colab_link": true
    },
    "kernelspec": {
      "name": "python3",
      "display_name": "Python 3"
    },
    "language_info": {
      "name": "python"
    }
  },
  "cells": [
    {
      "cell_type": "markdown",
      "metadata": {
        "id": "view-in-github",
        "colab_type": "text"
      },
      "source": [
        "<a href=\"https://colab.research.google.com/github/Mahdi-Saadati/Machine-Learning-1/blob/main/4.a.%20Random%20Forest.ipynb\" target=\"_parent\"><img src=\"https://colab.research.google.com/assets/colab-badge.svg\" alt=\"Open In Colab\"/></a>"
      ]
    },
    {
      "cell_type": "markdown",
      "source": [
        "<div dir=\"rtl\" align=\"right\">\n",
        "\n",
        "🌳🌳🌳 جنگل تصادفی (Random Forest) چیست؟\n",
        "\n",
        "🌳 درخت تصمیم یادت هست؟\n",
        "\n",
        "قبلاً گفتیم یک درخت تصمیم یعنی:\n",
        "کامپیوتر با چند تا سؤالِ بله/خیر به جواب می‌رسد.\n",
        "ولی گاهی یک درخت تصمیم تنها ممکن است اشتباه کند…\n",
        "مثلاً اگر داده‌ها شلوغ باشند یا مثال‌های عجیب داشته باشیم.\n",
        "\n",
        "\n",
        "✅ به جای یک درخت، می‌آییم چندین درخت تصمیم مختلف می‌سازیم.\n",
        "\n",
        "✅ هر درخت کمی متفاوت آموزش می‌بیند (با نمونه‌های تصادفی).\n",
        "\n",
        "✅ بعد برای یک سؤال جدید، هر درخت رأی می‌دهد.\n",
        "\n",
        "✅ در نهایت اکثریت رأی‌ها می‌شود جواب نهایی.\n",
        "\n",
        "\n",
        "🎯 یعنی مثل این است که به جای اینکه فقط از یک دوست بپرسی، از یک گروه از دوستانت بپرسی و بعد با رأی‌گیری تصمیم بگیری!\n",
        "این باعث می‌شود نتیجه دقیق‌تر و پایدارتر شود.\n",
        "\n",
        "✨ خلاصه‌ی خیلی ساده:\n",
        "\n",
        "🔹 چندین درخت تصمیم می‌سازیم (هرکدام با کمی تصادف).\n",
        "\n",
        "🔹 هر درخت نظر خودش را می‌دهد.\n",
        "\n",
        "🔹 در نهایت، اکثریت برنده می‌شود.\n",
        "\n",
        "✅ یک مثال جذاب با پایتون\n",
        "\n",
        " 🍎🍊🍋 باز از همان داستان بامزه‌ی میوه‌ها استفاده کنیم\n",
        "\n",
        "ولی این بار با جنگل تصادفی:"
      ],
      "metadata": {
        "id": "hZrWzh0BrukD"
      }
    },
    {
      "cell_type": "code",
      "source": [
        "from sklearn.ensemble import RandomForestClassifier\n",
        "\n",
        "# داده‌ها: [رنگ, بافت]\n",
        "# رنگ: قرمز=1، نارنجی=0\n",
        "# بافت: صاف=1، زبر=0\n",
        "X = [\n",
        "    [1, 1],  # قرمز و صاف → سیب\n",
        "    [1, 1],\n",
        "    [0, 0],  # نارنجی و زبر → پرتقال\n",
        "    [0, 0],\n",
        "    [1, 0],  # قرمز ولی زبر → (فرض کن سیب خاص 🍎)\n",
        "]\n",
        "\n",
        "# برچسب‌ها\n",
        "y = [\"Apple\", \"Apple\", \"Orange\", \"Orange\", \"Apple\"]\n",
        "\n",
        "# ساخت مدل جنگل تصادفی با 5 درخت\n",
        "clf = RandomForestClassifier(n_estimators=5, random_state=42)\n",
        "clf.fit(X, y)\n",
        "\n",
        "# تست با یک میوه جدید\n",
        "new_fruit = [[0, 1]]  # نارنجی ولی صاف\n",
        "prediction = clf.predict(new_fruit)\n",
        "print(\"What does this fruit look like?\", prediction[0]) #این میوه شبیه چیست؟\"\n"
      ],
      "metadata": {
        "colab": {
          "base_uri": "https://localhost:8080/"
        },
        "id": "NLWU9QYesTXc",
        "outputId": "cea8f737-40d7-4bae-bd76-b74c213d841d"
      },
      "execution_count": 6,
      "outputs": [
        {
          "output_type": "stream",
          "name": "stdout",
          "text": [
            "What does this fruit look like? Orange\n"
          ]
        }
      ]
    }
  ]
}