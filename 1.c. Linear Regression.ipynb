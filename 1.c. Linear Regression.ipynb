{
  "nbformat": 4,
  "nbformat_minor": 0,
  "metadata": {
    "colab": {
      "provenance": [],
      "authorship_tag": "ABX9TyP1ehhvpoF1rutAEbFOILHJ",
      "include_colab_link": true
    },
    "kernelspec": {
      "name": "python3",
      "display_name": "Python 3"
    },
    "language_info": {
      "name": "python"
    }
  },
  "cells": [
    {
      "cell_type": "markdown",
      "metadata": {
        "id": "view-in-github",
        "colab_type": "text"
      },
      "source": [
        "<a href=\"https://colab.research.google.com/github/Mahdi-Saadati/Machine-Learning-1/blob/main/1.c.%20Linear%20Regression.ipynb\" target=\"_parent\"><img src=\"https://colab.research.google.com/assets/colab-badge.svg\" alt=\"Open In Colab\"/></a>"
      ]
    },
    {
      "cell_type": "markdown",
      "source": [
        "<div dir=\"rtl\" align=\"right\">\n",
        "\n",
        "\n",
        "🎯 ایده‌ی مثال\n",
        "\n",
        "تشخیص دیابت از روی ویژگی های ورودی\n"
      ],
      "metadata": {
        "id": "hZrWzh0BrukD"
      }
    },
    {
      "cell_type": "code",
      "source": [
        "import matplotlib.pyplot as plt  # برای رسم نمودار استفاده می‌شود\n",
        "import numpy as np  # برای محاسبات عددی و کار با آرایه‌ها استفاده می‌شود\n",
        "from sklearn import datasets  # برای دسترسی به دیتاست‌های آماده مانند دیابت\n",
        "from sklearn import linear_model  # برای استفاده از مدل رگرسیون خطی\n",
        "from sklearn.metrics import mean_squared_error  # برای محاسبه خطای میانگین مربعات\n",
        "from sklearn.metrics import r2_score  # برای محاسبه دقت مدل (R2)\n",
        "\n",
        "# بارگذاری دیتاست دیابت\n",
        "d = datasets.load_diabetes()\n",
        "\n",
        "# چاپ نام ویژگی‌ها (ویژگی‌ها مثل سن، BMI و ... هستند)\n",
        "print(\"feature names are:\", d.feature_names)\n",
        "\n",
        "# انتخاب فقط ویژگی سوم (مثلاً BMI یا نمایه توده بدنی) برای سادگی و تحلیل تک‌متغیره\n",
        "X = d.data[:,2].reshape(-1,1)\n",
        "\n",
        "# تقسیم داده‌ها به دو بخش: آموزش و تست\n",
        "Xtrain = X[:-20]  # تمام داده‌ها به جز 20 تای آخر برای آموزش\n",
        "ytrain = d.target[:-20]  # برچسب‌های متناظر با داده‌های آموزش\n",
        "\n",
        "Xtest = X[-20:]  # 20 تای آخر برای تست (آزمون)\n",
        "ytest = d.target[-20:]  # برچسب‌های متناظر با داده‌های تست\n",
        "\n",
        "# ساخت و آموزش مدل رگرسیون خطی\n",
        "model = linear_model.LinearRegression()\n",
        "model.fit(Xtrain, ytrain)\n",
        "\n",
        "# پیش‌بینی مقدار خروجی برای داده‌های تست\n",
        "ypred = model.predict(Xtest)\n",
        "\n",
        "# رسم نمودار: نقاط قرمز برای داده‌های واقعی تست\n",
        "plt.scatter(Xtest, ytest,  color='r')\n",
        "\n",
        "# رسم نمودار: خط آبی برای پیش‌بینی مدل\n",
        "plt.plot(Xtest, ypred, color='b', linewidth=2)\n",
        "\n",
        "# حذف اعداد روی محور x (فقط ظاهر را ساده‌تر می‌کند)\n",
        "plt.xticks(())\n"
      ],
      "metadata": {
        "colab": {
          "base_uri": "https://localhost:8080/",
          "height": 441
        },
        "id": "NLWU9QYesTXc",
        "outputId": "6f4edf6e-f0b3-48e2-bdba-86b58173529a"
      },
      "execution_count": null,
      "outputs": [
        {
          "output_type": "stream",
          "name": "stdout",
          "text": [
            "feature names are: ['age', 'sex', 'bmi', 'bp', 's1', 's2', 's3', 's4', 's5', 's6']\n"
          ]
        },
        {
          "output_type": "execute_result",
          "data": {
            "text/plain": [
              "([], [])"
            ]
          },
          "metadata": {},
          "execution_count": 1
        },
        {
          "output_type": "display_data",
          "data": {
            "text/plain": [
              "<Figure size 640x480 with 1 Axes>"
            ],
            "image/png": "[encoded data removed]"
          },
          "metadata": {}
        }
      ]
    }
  ]
}