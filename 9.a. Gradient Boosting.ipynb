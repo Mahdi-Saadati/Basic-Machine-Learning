{
  "nbformat": 4,
  "nbformat_minor": 0,
  "metadata": {
    "colab": {
      "provenance": [],
      "authorship_tag": "ABX9TyMvdjBnVOpAUTqBxlvc/Ug3",
      "include_colab_link": true
    },
    "kernelspec": {
      "name": "python3",
      "display_name": "Python 3"
    },
    "language_info": {
      "name": "python"
    }
  },
  "cells": [
    {
      "cell_type": "markdown",
      "metadata": {
        "id": "view-in-github",
        "colab_type": "text"
      },
      "source": [
        "<a href=\"https://colab.research.google.com/github/Mahdi-Saadati/Machine-Learning-1/blob/main/9.a.%20Gradient%20Boosting.ipynb\" target=\"_parent\"><img src=\"https://colab.research.google.com/assets/colab-badge.svg\" alt=\"Open In Colab\"/></a>"
      ]
    },
    {
      "cell_type": "markdown",
      "source": [
        "<div dir=\"rtl\" align=\"right\">\n",
        "🌱 گرادیان تقویتی (Gradient Boosting) یعنی چی؟\n",
        "\n",
        "اول یاد بگیریم کلاً boosting یعنی چی:\n",
        "\n",
        "✅ به جای اینکه یک مدل قوی بسازی، میای چند مدل ساده می‌سازی (مثل چند درخت کوچک).\n",
        "\n",
        "✅ هر مدل جدید میاد و اشتباه‌های مدل قبلی رو بهتر می‌کنه.\n",
        "\n",
        "✅ آخرش همه رو با هم ترکیب می‌کنی تا یک مدل قوی بسازی. 💪\n",
        "\n",
        "\n",
        "Gradient یعنی توی هر مرحله با کمک گرادیان (شیب خطا) یاد می‌گیری که دقیقاً کجا اشتباه کردی و چطور باید مدل بعدی رو بسازی تا این اشتباه‌ها کمتر بشه.\n",
        "\n",
        "🎯 یک مثال ساده‌ی داستانی برای کلاس\n",
        "فرض کن می‌خوای یک امتحان رو درست جواب بدی، ولی اولش همه‌ی جواب‌ها رو حدس می‌زنی.\n",
        "بعد معلم میاد و بهت میگه کجاها اشتباه کردی.\n",
        "دفعه‌ی بعد سعی می‌کنی فقط روی همون سوال‌هایی که اشتباه داشتی بیشتر دقت کنی.\n",
        "\n",
        "✨ این کار رو چندبار تکرار می‌کنی تا در نهایت نمره‌ات خیلی بهتر بشه!\n",
        "\n",
        "\n",
        "این همون کاریه که Gradient Boosting انجام می‌ده:\n",
        "\n",
        "مدل اول: یه پیش‌بینی ساده.\n",
        "\n",
        "مدل دوم: نگاه می‌کنه کجاها مدل اول اشتباه کرده.\n",
        "\n",
        "مدل سوم: نگاه می‌کنه کجاها دوتای قبلی هنوز اشتباه می‌کنن.\n",
        "\n",
        "و همین‌طور تا آخر…\n",
        "\n",
        "👉 ترکیب همه = یک مدل قوی!\n",
        "\n",
        "✅ یک مثال جذاب با پایتون\n",
        "\n",
        "بیایید باز هم سراغ همان مثال آشنای ساعت مطالعه → قبول یا رد برویم،\n",
        "ولی این بار از Gradient Boosting استفاده کنیم."
      ],
      "metadata": {
        "id": "hZrWzh0BrukD"
      }
    },
    {
      "cell_type": "code",
      "source": [
        "from sklearn.ensemble import GradientBoostingClassifier\n",
        "import numpy as np\n",
        "\n",
        "# داده‌های آموزشی: [ساعت مطالعه]\n",
        "X = np.array([[1],[2],[3],[4],[5],[6],[7],[8]])\n",
        "# برچسب‌ها: 0=رد ❌، 1=قبول ✅\n",
        "y = np.array([0,0,0,0,1,1,1,1])\n",
        "\n",
        "# ساخت مدل گرادیان تقویتی\n",
        "model = GradientBoostingClassifier(n_estimators=10, learning_rate=0.1, max_depth=2)\n",
        "model.fit(X, y)\n",
        "\n",
        "# تست مدل\n",
        "test_hour = [[3.5],[6]]\n",
        "for h in test_hour:\n",
        "    pred = model.predict([h])[0]\n",
        "    print(f\"if study {h[0]} hours\", \"you accept.\" if pred==1 else \"you reject.\")\n"
      ],
      "metadata": {
        "colab": {
          "base_uri": "https://localhost:8080/"
        },
        "id": "NLWU9QYesTXc",
        "outputId": "fb43188f-aa7a-4c4c-ebbb-69c1ff323a73",
        "collapsed": true
      },
      "execution_count": 10,
      "outputs": [
        {
          "output_type": "stream",
          "name": "stdout",
          "text": [
            "if study 3.5 hours you reject.\n",
            "if study 6 hours you accept.\n"
          ]
        }
      ]
    }
  ]
}